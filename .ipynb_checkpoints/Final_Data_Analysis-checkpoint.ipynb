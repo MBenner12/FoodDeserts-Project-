{
 "cells": [
  {
   "cell_type": "markdown",
   "metadata": {
    "collapsed": true
   },
   "source": [
    "# Food Desert And Health\n",
    "Blake Palder, John Jenkins, Jennifer Kregor, Matthew Benner"
   ]
  },
  {
   "cell_type": "markdown",
   "metadata": {},
   "source": [
    "Food Desert Theory: There is a direct relationship between a population’s access to fresh food and health. The purpose of this analysis explores whether the data supports the Food Desert Theory. \n",
    "\n",
    "Definition of Food Desert as Defined by the USDA\n",
    "\n",
    "“The USDA defines what's considered a food desert and which areas will be helped by this initiative:  To qualify as a “low-access community,” at least 500 people and/or at least 33 percent of the census tracts population must reside more than one mile from a supermarket or large grocery store (for rural census tracts, the distance is more than 10 miles).”\n",
    "\n"
   ]
  },
  {
   "cell_type": "markdown",
   "metadata": {},
   "source": [
    "### Questions"
   ]
  },
  {
   "cell_type": "markdown",
   "metadata": {},
   "source": [
    "1. Does a change in access to grocery stores show correlation to change in health over time?\n",
    "2. Are there outliers to this theory?\n",
    "3. Are there other factors that impact health beyond access such as socio economics or region or culture?\n"
   ]
  },
  {
   "cell_type": "code",
   "execution_count": 1,
   "metadata": {
    "collapsed": true
   },
   "outputs": [],
   "source": [
    "import pandas as pd\n",
    "import numpy as np\n",
    "import json\n",
    "import matplotlib.pyplot as plt\n",
    "import random\n",
    "import seaborn as sns"
   ]
  },
  {
   "cell_type": "code",
   "execution_count": 2,
   "metadata": {
    "collapsed": true
   },
   "outputs": [],
   "source": [
    "#Import CSV File\n",
    "desert = pd.read_csv(\"Food Desert_Data_jj.csv\")\n",
    "food_desert = desert.groupby('State').mean()"
   ]
  },
  {
   "cell_type": "code",
   "execution_count": 3,
   "metadata": {},
   "outputs": [
    {
     "data": {
      "text/html": [
       "<div>\n",
       "<style>\n",
       "    .dataframe thead tr:only-child th {\n",
       "        text-align: right;\n",
       "    }\n",
       "\n",
       "    .dataframe thead th {\n",
       "        text-align: left;\n",
       "    }\n",
       "\n",
       "    .dataframe tbody tr th {\n",
       "        vertical-align: top;\n",
       "    }\n",
       "</style>\n",
       "<table border=\"1\" class=\"dataframe\">\n",
       "  <thead>\n",
       "    <tr style=\"text-align: right;\">\n",
       "      <th></th>\n",
       "      <th>Grocery 2009</th>\n",
       "      <th>Convenience 2009</th>\n",
       "      <th>Fast Food Restaurants 2009</th>\n",
       "      <th>Adult Diabetes % 2009</th>\n",
       "      <th>Adult Obsesity % 2009</th>\n",
       "      <th>Median Household Income 2009</th>\n",
       "      <th>Limited Access Population% 2009</th>\n",
       "      <th>Limited Access Population 2009</th>\n",
       "      <th>Population 2009</th>\n",
       "      <th>Grocery 2014</th>\n",
       "      <th>...</th>\n",
       "      <th>Population 2014</th>\n",
       "      <th>FF per capita 2009</th>\n",
       "      <th>FF per capita 2014</th>\n",
       "      <th>% change FF Per Capita</th>\n",
       "      <th>Grocery per capita 2009</th>\n",
       "      <th>Grocery per capita 2014</th>\n",
       "      <th>% change in grocery per capita</th>\n",
       "      <th>% change in Access</th>\n",
       "      <th>% Change in Obesity</th>\n",
       "      <th>% change in income</th>\n",
       "    </tr>\n",
       "    <tr>\n",
       "      <th>State</th>\n",
       "      <th></th>\n",
       "      <th></th>\n",
       "      <th></th>\n",
       "      <th></th>\n",
       "      <th></th>\n",
       "      <th></th>\n",
       "      <th></th>\n",
       "      <th></th>\n",
       "      <th></th>\n",
       "      <th></th>\n",
       "      <th></th>\n",
       "      <th></th>\n",
       "      <th></th>\n",
       "      <th></th>\n",
       "      <th></th>\n",
       "      <th></th>\n",
       "      <th></th>\n",
       "      <th></th>\n",
       "      <th></th>\n",
       "      <th></th>\n",
       "      <th></th>\n",
       "    </tr>\n",
       "  </thead>\n",
       "  <tbody>\n",
       "    <tr>\n",
       "      <th>AK</th>\n",
       "      <td>9.400000</td>\n",
       "      <td>6.000000</td>\n",
       "      <td>7.300000</td>\n",
       "      <td>7.880000</td>\n",
       "      <td>31.760000</td>\n",
       "      <td>50652.700000</td>\n",
       "      <td>36.800000</td>\n",
       "      <td>4066.000000</td>\n",
       "      <td>9371.700000</td>\n",
       "      <td>8.000000</td>\n",
       "      <td>...</td>\n",
       "      <td>9553.100000</td>\n",
       "      <td>0.001179</td>\n",
       "      <td>0.000469</td>\n",
       "      <td>-18.909000</td>\n",
       "      <td>0.001536</td>\n",
       "      <td>0.001250</td>\n",
       "      <td>-10.104000</td>\n",
       "      <td>13.310000</td>\n",
       "      <td>-3.868000</td>\n",
       "      <td>14.522000</td>\n",
       "    </tr>\n",
       "    <tr>\n",
       "      <th>AL</th>\n",
       "      <td>11.590909</td>\n",
       "      <td>46.954545</td>\n",
       "      <td>49.606061</td>\n",
       "      <td>13.906061</td>\n",
       "      <td>35.119697</td>\n",
       "      <td>36158.409091</td>\n",
       "      <td>16.909091</td>\n",
       "      <td>15479.530303</td>\n",
       "      <td>71153.681818</td>\n",
       "      <td>11.303030</td>\n",
       "      <td>...</td>\n",
       "      <td>72071.696970</td>\n",
       "      <td>0.000570</td>\n",
       "      <td>0.000584</td>\n",
       "      <td>1.949394</td>\n",
       "      <td>0.000209</td>\n",
       "      <td>0.000186</td>\n",
       "      <td>-6.459545</td>\n",
       "      <td>29.911364</td>\n",
       "      <td>3.277424</td>\n",
       "      <td>9.576970</td>\n",
       "    </tr>\n",
       "    <tr>\n",
       "      <th>AR</th>\n",
       "      <td>10.112676</td>\n",
       "      <td>32.042254</td>\n",
       "      <td>41.661972</td>\n",
       "      <td>12.401408</td>\n",
       "      <td>33.661972</td>\n",
       "      <td>35439.126761</td>\n",
       "      <td>19.056338</td>\n",
       "      <td>13986.169014</td>\n",
       "      <td>57926.732394</td>\n",
       "      <td>9.197183</td>\n",
       "      <td>...</td>\n",
       "      <td>58807.563380</td>\n",
       "      <td>0.000568</td>\n",
       "      <td>0.000562</td>\n",
       "      <td>2.233521</td>\n",
       "      <td>0.000221</td>\n",
       "      <td>0.000181</td>\n",
       "      <td>-12.675493</td>\n",
       "      <td>41.280000</td>\n",
       "      <td>7.626197</td>\n",
       "      <td>10.319155</td>\n",
       "    </tr>\n",
       "    <tr>\n",
       "      <th>AZ</th>\n",
       "      <td>64.692308</td>\n",
       "      <td>144.153846</td>\n",
       "      <td>309.615385</td>\n",
       "      <td>9.984615</td>\n",
       "      <td>28.069231</td>\n",
       "      <td>41814.615385</td>\n",
       "      <td>34.307692</td>\n",
       "      <td>92083.769231</td>\n",
       "      <td>486469.846154</td>\n",
       "      <td>62.307692</td>\n",
       "      <td>...</td>\n",
       "      <td>511791.769231</td>\n",
       "      <td>0.000517</td>\n",
       "      <td>0.000512</td>\n",
       "      <td>-1.579231</td>\n",
       "      <td>0.000141</td>\n",
       "      <td>0.000136</td>\n",
       "      <td>-1.438462</td>\n",
       "      <td>7.690769</td>\n",
       "      <td>3.651538</td>\n",
       "      <td>8.396154</td>\n",
       "    </tr>\n",
       "    <tr>\n",
       "      <th>CA</th>\n",
       "      <td>75.590909</td>\n",
       "      <td>90.750000</td>\n",
       "      <td>241.022727</td>\n",
       "      <td>8.279545</td>\n",
       "      <td>25.579545</td>\n",
       "      <td>48118.727273</td>\n",
       "      <td>21.340909</td>\n",
       "      <td>51613.681818</td>\n",
       "      <td>362603.431818</td>\n",
       "      <td>79.113636</td>\n",
       "      <td>...</td>\n",
       "      <td>376846.227273</td>\n",
       "      <td>0.000623</td>\n",
       "      <td>0.000629</td>\n",
       "      <td>1.688182</td>\n",
       "      <td>0.000278</td>\n",
       "      <td>0.000281</td>\n",
       "      <td>2.268864</td>\n",
       "      <td>-3.377500</td>\n",
       "      <td>-1.526136</td>\n",
       "      <td>9.622727</td>\n",
       "    </tr>\n",
       "  </tbody>\n",
       "</table>\n",
       "<p>5 rows × 27 columns</p>\n",
       "</div>"
      ],
      "text/plain": [
       "       Grocery 2009  Convenience 2009  Fast Food Restaurants 2009  \\\n",
       "State                                                               \n",
       "AK         9.400000          6.000000                    7.300000   \n",
       "AL        11.590909         46.954545                   49.606061   \n",
       "AR        10.112676         32.042254                   41.661972   \n",
       "AZ        64.692308        144.153846                  309.615385   \n",
       "CA        75.590909         90.750000                  241.022727   \n",
       "\n",
       "       Adult Diabetes % 2009  Adult Obsesity % 2009  \\\n",
       "State                                                 \n",
       "AK                  7.880000              31.760000   \n",
       "AL                 13.906061              35.119697   \n",
       "AR                 12.401408              33.661972   \n",
       "AZ                  9.984615              28.069231   \n",
       "CA                  8.279545              25.579545   \n",
       "\n",
       "       Median Household Income 2009  Limited Access Population% 2009  \\\n",
       "State                                                                  \n",
       "AK                     50652.700000                        36.800000   \n",
       "AL                     36158.409091                        16.909091   \n",
       "AR                     35439.126761                        19.056338   \n",
       "AZ                     41814.615385                        34.307692   \n",
       "CA                     48118.727273                        21.340909   \n",
       "\n",
       "       Limited Access Population 2009  Population 2009  Grocery 2014  \\\n",
       "State                                                                  \n",
       "AK                        4066.000000      9371.700000      8.000000   \n",
       "AL                       15479.530303     71153.681818     11.303030   \n",
       "AR                       13986.169014     57926.732394      9.197183   \n",
       "AZ                       92083.769231    486469.846154     62.307692   \n",
       "CA                       51613.681818    362603.431818     79.113636   \n",
       "\n",
       "              ...          Population 2014  FF per capita 2009  \\\n",
       "State         ...                                                \n",
       "AK            ...              9553.100000            0.001179   \n",
       "AL            ...             72071.696970            0.000570   \n",
       "AR            ...             58807.563380            0.000568   \n",
       "AZ            ...            511791.769231            0.000517   \n",
       "CA            ...            376846.227273            0.000623   \n",
       "\n",
       "       FF per capita 2014  % change FF Per Capita  Grocery per capita 2009  \\\n",
       "State                                                                        \n",
       "AK               0.000469              -18.909000                 0.001536   \n",
       "AL               0.000584                1.949394                 0.000209   \n",
       "AR               0.000562                2.233521                 0.000221   \n",
       "AZ               0.000512               -1.579231                 0.000141   \n",
       "CA               0.000629                1.688182                 0.000278   \n",
       "\n",
       "       Grocery per capita 2014  % change in grocery per capita  \\\n",
       "State                                                            \n",
       "AK                    0.001250                      -10.104000   \n",
       "AL                    0.000186                       -6.459545   \n",
       "AR                    0.000181                      -12.675493   \n",
       "AZ                    0.000136                       -1.438462   \n",
       "CA                    0.000281                        2.268864   \n",
       "\n",
       "       % change in Access  % Change in Obesity  % change in income  \n",
       "State                                                               \n",
       "AK              13.310000            -3.868000           14.522000  \n",
       "AL              29.911364             3.277424            9.576970  \n",
       "AR              41.280000             7.626197           10.319155  \n",
       "AZ               7.690769             3.651538            8.396154  \n",
       "CA              -3.377500            -1.526136            9.622727  \n",
       "\n",
       "[5 rows x 27 columns]"
      ]
     },
     "execution_count": 3,
     "metadata": {},
     "output_type": "execute_result"
    }
   ],
   "source": [
    "#DataFrame \n",
    "food_desert.head()"
   ]
  },
  {
   "cell_type": "code",
   "execution_count": 4,
   "metadata": {
    "collapsed": true
   },
   "outputs": [],
   "source": [
    "#Set Index\n",
    "food_desert.reset_index(inplace=True)\n"
   ]
  },
  {
   "cell_type": "code",
   "execution_count": 5,
   "metadata": {},
   "outputs": [
    {
     "data": {
      "image/png": "[encoded data removed]",
      "text/plain": [
       "<matplotlib.figure.Figure at 0x1113f8cf8>"
      ]
     },
     "metadata": {},
     "output_type": "display_data"
    }
   ],
   "source": [
    "#Access Versus Health 2009- Correlation not found\n",
    "sns.set()\n",
    "\n",
    "# Household income against Limited Access\n",
    "g = sns.lmplot(x=\"Limited Access Population% 2009\", y=\"Adult Obsesity % 2009\", truncate=True, size=7, data=food_desert)\n",
    "plt.show()\n",
    "\n",
    "plt.savefig(\"Access_v_Health_2009.png\")"
   ]
  },
  {
   "cell_type": "code",
   "execution_count": 6,
   "metadata": {},
   "outputs": [
    {
     "data": {
      "text/plain": [
       "<matplotlib.figure.Figure at 0x111a40f60>"
      ]
     },
     "metadata": {},
     "output_type": "display_data"
    },
    {
     "data": {
      "image/png": "[encoded data removed]",
      "text/plain": [
       "<matplotlib.figure.Figure at 0x111a84518>"
      ]
     },
     "metadata": {},
     "output_type": "display_data"
    }
   ],
   "source": [
    "#Access Versus Health 2014- Correlation not found\n",
    "sns.set()\n",
    "\n",
    "# Household income against Limited Access\n",
    "g = sns.lmplot(x=\"Limited Access % 2014\", y=\"Adult Obesity 2014\", truncate=True, size=7, data=food_desert)\n",
    "plt.show()\n",
    "\n",
    "\n",
    "plt.savefig(\"Access_v_Health_2014.png\")"
   ]
  },
  {
   "cell_type": "markdown",
   "metadata": {},
   "source": [
    "### 1. Does the data support the Food Desert Theory, where we expect to see a direct relationship between the percentage of population’s access to fresh food and their relative health?"
   ]
  },
  {
   "cell_type": "markdown",
   "metadata": {},
   "source": [
    "We found that the change in data between 2009 and 2014 showed correlation between access to adequate food and populations health. The results are that as limited access increased health became worse while inversley when limited access decreased health became better. The data thus supports the food desert theory. "
   ]
  },
  {
   "cell_type": "code",
   "execution_count": 7,
   "metadata": {},
   "outputs": [
    {
     "data": {
      "text/plain": [
       "<matplotlib.figure.Figure at 0x116e67f28>"
      ]
     },
     "metadata": {},
     "output_type": "display_data"
    },
    {
     "data": {
      "image/png": "[encoded data removed]",
      "text/plain": [
       "<matplotlib.figure.Figure at 0x111b04470>"
      ]
     },
     "metadata": {},
     "output_type": "display_data"
    }
   ],
   "source": [
    "#Change Access Versus Change Obesity- Correlation Found\n",
    "sns.set()\n",
    "\n",
    "# Household income against Limited Access\n",
    "w = sns.lmplot(x=\"% change in Access\", y=\"% Change in Obesity\", truncate=True, size=7, data=food_desert)\n",
    "plt.show()\n",
    "\n",
    "\n",
    "plt.savefig(\"Access_v_Obesity_chnge.png\")"
   ]
  },
  {
   "cell_type": "code",
   "execution_count": 8,
   "metadata": {},
   "outputs": [
    {
     "data": {
      "text/html": [
       "<iframe id=\"igraph\" scrolling=\"no\" style=\"border:none;\" seamless=\"seamless\" src=\"https://plot.ly/~blakezara/2.embed\" height=\"525px\" width=\"100%\"></iframe>"
      ],
      "text/plain": [
       "<plotly.tools.PlotlyDisplay object>"
      ]
     },
     "execution_count": 8,
     "metadata": {},
     "output_type": "execute_result"
    }
   ],
   "source": [
    "#Change in Obesity Versus Change in Access- Correlation Found\n",
    "import plotly.plotly as py\n",
    "import plotly.graph_objs as go\n",
    "\n",
    "\n",
    "trace1 = go.Bar(\n",
    "    x=food_desert['State'],\n",
    "    y=food_desert['% change in Access'],\n",
    "    name='Access'\n",
    ")\n",
    "trace2 = go.Bar(\n",
    "    x=food_desert['State'],\n",
    "    y=food_desert['% Change in Obesity'],\n",
    "    name='Obesity'\n",
    ")\n",
    "\n",
    "data = [trace1, trace2]\n",
    "layout = go.Layout(\n",
    "    barmode='group'\n",
    ")\n",
    "\n",
    "fig = go.Figure(data=data, layout=layout)\n",
    "plt.savefig(\"accessvshealth.png\")\n",
    "py.iplot(fig, filename='grouped-bar')"
   ]
  },
  {
   "cell_type": "code",
   "execution_count": 9,
   "metadata": {},
   "outputs": [
    {
     "data": {
      "text/html": [
       "<iframe id=\"igraph\" scrolling=\"no\" style=\"border:none;\" seamless=\"seamless\" src=\"https://plot.ly/~blakezara/2.embed\" height=\"525px\" width=\"100%\"></iframe>"
      ],
      "text/plain": [
       "<plotly.tools.PlotlyDisplay object>"
      ]
     },
     "execution_count": 9,
     "metadata": {},
     "output_type": "execute_result"
    }
   ],
   "source": [
    "#Change Fast Food and Change Grocery and Change Health\n",
    "import plotly.plotly as py\n",
    "import plotly.graph_objs as go\n",
    "\n",
    "\n",
    "trace1 = go.Bar(\n",
    "    x=food_desert['State'],\n",
    "    y=food_desert['% change in grocery per capita'],\n",
    "    name='Grocery'\n",
    ")\n",
    "trace2 = go.Bar(\n",
    "    x=food_desert['State'],\n",
    "    y=food_desert['% Change in Obesity'],\n",
    "    name='Obesity'\n",
    ")\n",
    "trace3 = go.Bar(\n",
    "    x=food_desert['State'],\n",
    "    y=food_desert['% change FF Per Capita'],\n",
    "    name='FF'\n",
    ")\n",
    "\n",
    "data = [trace1, trace2, trace3]\n",
    "layout = go.Layout(\n",
    "    barmode='group'\n",
    ")\n",
    "\n",
    "fig = go.Figure(data=data, layout=layout)\n",
    "plt.savefig(\"accessvshealth.png\")\n",
    "py.iplot(fig, filename='grouped-bar')"
   ]
  },
  {
   "cell_type": "markdown",
   "metadata": {},
   "source": [
    "### 2. Are there outliers to this theory? "
   ]
  },
  {
   "cell_type": "markdown",
   "metadata": {},
   "source": [
    "We found that there were outliers that did not follow the the expected correlation over the years that we looked at. A majority of these outliers were where limited acces decreased but health became worse therfore illustrating that limited access to food is not the only contributor to increased negative health. "
   ]
  },
  {
   "cell_type": "code",
   "execution_count": 10,
   "metadata": {
    "collapsed": true
   },
   "outputs": [],
   "source": [
    "#Identify Outliers\n",
    "outlier_df = food_desert[['State', '% Change in Obesity', '% change in Access']]\n"
   ]
  },
  {
   "cell_type": "code",
   "execution_count": 11,
   "metadata": {},
   "outputs": [
    {
     "name": "stderr",
     "output_type": "stream",
     "text": [
      "/Users/blakezpalder/anaconda3/lib/python3.6/site-packages/ipykernel_launcher.py:2: SettingWithCopyWarning:\n",
      "\n",
      "\n",
      "A value is trying to be set on a copy of a slice from a DataFrame.\n",
      "Try using .loc[row_indexer,col_indexer] = value instead\n",
      "\n",
      "See the caveats in the documentation: http://pandas.pydata.org/pandas-docs/stable/indexing.html#indexing-view-versus-copy\n",
      "\n"
     ]
    }
   ],
   "source": [
    "#Sort through data that has opposite signs to find outliers and create new column\n",
    "outlier_df['Outlier'] = outlier_df.apply((lambda x: (x[2]> 0 and x[1]>0) or (x[2]< 0 and x[1]<0)  ), axis = 1)\n",
    "outlier_df.head()\n",
    "\n",
    "#Export Outliers List\n",
    "outlier_df.to_csv(\"Outliers.csv\")"
   ]
  },
  {
   "cell_type": "code",
   "execution_count": 12,
   "metadata": {},
   "outputs": [
    {
     "data": {
      "text/html": [
       "<div>\n",
       "<style>\n",
       "    .dataframe thead tr:only-child th {\n",
       "        text-align: right;\n",
       "    }\n",
       "\n",
       "    .dataframe thead th {\n",
       "        text-align: left;\n",
       "    }\n",
       "\n",
       "    .dataframe tbody tr th {\n",
       "        vertical-align: top;\n",
       "    }\n",
       "</style>\n",
       "<table border=\"1\" class=\"dataframe\">\n",
       "  <thead>\n",
       "    <tr style=\"text-align: right;\">\n",
       "      <th></th>\n",
       "      <th>State</th>\n",
       "      <th>% Change in Obesity</th>\n",
       "      <th>% change in Access</th>\n",
       "      <th>Outlier</th>\n",
       "    </tr>\n",
       "  </thead>\n",
       "  <tbody>\n",
       "    <tr>\n",
       "      <th>0</th>\n",
       "      <td>AK</td>\n",
       "      <td>-3.868000</td>\n",
       "      <td>13.310000</td>\n",
       "      <td>False</td>\n",
       "    </tr>\n",
       "    <tr>\n",
       "      <th>6</th>\n",
       "      <td>CT</td>\n",
       "      <td>9.686667</td>\n",
       "      <td>-1.623333</td>\n",
       "      <td>False</td>\n",
       "    </tr>\n",
       "    <tr>\n",
       "      <th>7</th>\n",
       "      <td>DE</td>\n",
       "      <td>2.875000</td>\n",
       "      <td>-16.720000</td>\n",
       "      <td>False</td>\n",
       "    </tr>\n",
       "    <tr>\n",
       "      <th>17</th>\n",
       "      <td>LA</td>\n",
       "      <td>5.148409</td>\n",
       "      <td>-0.480227</td>\n",
       "      <td>False</td>\n",
       "    </tr>\n",
       "    <tr>\n",
       "      <th>18</th>\n",
       "      <td>MA</td>\n",
       "      <td>0.770714</td>\n",
       "      <td>-13.382143</td>\n",
       "      <td>False</td>\n",
       "    </tr>\n",
       "    <tr>\n",
       "      <th>20</th>\n",
       "      <td>ME</td>\n",
       "      <td>0.627500</td>\n",
       "      <td>-5.960625</td>\n",
       "      <td>False</td>\n",
       "    </tr>\n",
       "    <tr>\n",
       "      <th>22</th>\n",
       "      <td>MN</td>\n",
       "      <td>3.579737</td>\n",
       "      <td>-4.340658</td>\n",
       "      <td>False</td>\n",
       "    </tr>\n",
       "    <tr>\n",
       "      <th>27</th>\n",
       "      <td>ND</td>\n",
       "      <td>3.401961</td>\n",
       "      <td>-10.590784</td>\n",
       "      <td>False</td>\n",
       "    </tr>\n",
       "    <tr>\n",
       "      <th>28</th>\n",
       "      <td>NE</td>\n",
       "      <td>2.488539</td>\n",
       "      <td>-7.723483</td>\n",
       "      <td>False</td>\n",
       "    </tr>\n",
       "    <tr>\n",
       "      <th>29</th>\n",
       "      <td>NH</td>\n",
       "      <td>8.821000</td>\n",
       "      <td>-6.348000</td>\n",
       "      <td>False</td>\n",
       "    </tr>\n",
       "    <tr>\n",
       "      <th>38</th>\n",
       "      <td>RI</td>\n",
       "      <td>3.892000</td>\n",
       "      <td>-15.734000</td>\n",
       "      <td>False</td>\n",
       "    </tr>\n",
       "    <tr>\n",
       "      <th>41</th>\n",
       "      <td>TN</td>\n",
       "      <td>2.359043</td>\n",
       "      <td>-0.652766</td>\n",
       "      <td>False</td>\n",
       "    </tr>\n",
       "    <tr>\n",
       "      <th>42</th>\n",
       "      <td>TX</td>\n",
       "      <td>-1.059705</td>\n",
       "      <td>17.321646</td>\n",
       "      <td>False</td>\n",
       "    </tr>\n",
       "    <tr>\n",
       "      <th>45</th>\n",
       "      <td>VT</td>\n",
       "      <td>3.164615</td>\n",
       "      <td>-3.643846</td>\n",
       "      <td>False</td>\n",
       "    </tr>\n",
       "    <tr>\n",
       "      <th>49</th>\n",
       "      <td>WY</td>\n",
       "      <td>3.260000</td>\n",
       "      <td>-0.268571</td>\n",
       "      <td>False</td>\n",
       "    </tr>\n",
       "  </tbody>\n",
       "</table>\n",
       "</div>"
      ],
      "text/plain": [
       "   State  % Change in Obesity  % change in Access  Outlier\n",
       "0     AK            -3.868000           13.310000    False\n",
       "6     CT             9.686667           -1.623333    False\n",
       "7     DE             2.875000          -16.720000    False\n",
       "17    LA             5.148409           -0.480227    False\n",
       "18    MA             0.770714          -13.382143    False\n",
       "20    ME             0.627500           -5.960625    False\n",
       "22    MN             3.579737           -4.340658    False\n",
       "27    ND             3.401961          -10.590784    False\n",
       "28    NE             2.488539           -7.723483    False\n",
       "29    NH             8.821000           -6.348000    False\n",
       "38    RI             3.892000          -15.734000    False\n",
       "41    TN             2.359043           -0.652766    False\n",
       "42    TX            -1.059705           17.321646    False\n",
       "45    VT             3.164615           -3.643846    False\n",
       "49    WY             3.260000           -0.268571    False"
      ]
     },
     "execution_count": 12,
     "metadata": {},
     "output_type": "execute_result"
    }
   ],
   "source": [
    "#Pull Outliers\n",
    "outlier_list=outlier_df[outlier_df['Outlier'] == False]\n",
    "outlier_list"
   ]
  },
  {
   "cell_type": "code",
   "execution_count": 13,
   "metadata": {},
   "outputs": [
    {
     "data": {
      "text/html": [
       "<div>\n",
       "<style>\n",
       "    .dataframe thead tr:only-child th {\n",
       "        text-align: right;\n",
       "    }\n",
       "\n",
       "    .dataframe thead th {\n",
       "        text-align: left;\n",
       "    }\n",
       "\n",
       "    .dataframe tbody tr th {\n",
       "        vertical-align: top;\n",
       "    }\n",
       "</style>\n",
       "<table border=\"1\" class=\"dataframe\">\n",
       "  <thead>\n",
       "    <tr style=\"text-align: right;\">\n",
       "      <th></th>\n",
       "      <th>State</th>\n",
       "      <th>Grocery 2009</th>\n",
       "      <th>Convenience 2009</th>\n",
       "      <th>Fast Food Restaurants 2009</th>\n",
       "      <th>Adult Diabetes % 2009</th>\n",
       "      <th>Adult Obsesity % 2009</th>\n",
       "      <th>Median Household Income 2009</th>\n",
       "      <th>Limited Access Population% 2009</th>\n",
       "      <th>Limited Access Population 2009</th>\n",
       "      <th>Population 2009</th>\n",
       "      <th>...</th>\n",
       "      <th>Population 2014</th>\n",
       "      <th>FF per capita 2009</th>\n",
       "      <th>FF per capita 2014</th>\n",
       "      <th>% change FF Per Capita</th>\n",
       "      <th>Grocery per capita 2009</th>\n",
       "      <th>Grocery per capita 2014</th>\n",
       "      <th>% change in grocery per capita</th>\n",
       "      <th>% change in Access</th>\n",
       "      <th>% Change in Obesity</th>\n",
       "      <th>% change in income</th>\n",
       "    </tr>\n",
       "  </thead>\n",
       "  <tbody>\n",
       "    <tr>\n",
       "      <th>0</th>\n",
       "      <td>AK</td>\n",
       "      <td>9.400000</td>\n",
       "      <td>6.000000</td>\n",
       "      <td>7.300000</td>\n",
       "      <td>7.880000</td>\n",
       "      <td>31.760000</td>\n",
       "      <td>50652.700000</td>\n",
       "      <td>36.800000</td>\n",
       "      <td>4066.000000</td>\n",
       "      <td>9371.700000</td>\n",
       "      <td>...</td>\n",
       "      <td>9553.100000</td>\n",
       "      <td>0.001179</td>\n",
       "      <td>0.000469</td>\n",
       "      <td>-18.909000</td>\n",
       "      <td>0.001536</td>\n",
       "      <td>0.001250</td>\n",
       "      <td>-10.104000</td>\n",
       "      <td>13.310000</td>\n",
       "      <td>-3.868000</td>\n",
       "      <td>14.522000</td>\n",
       "    </tr>\n",
       "    <tr>\n",
       "      <th>6</th>\n",
       "      <td>CT</td>\n",
       "      <td>84.833333</td>\n",
       "      <td>125.666667</td>\n",
       "      <td>220.333333</td>\n",
       "      <td>7.483333</td>\n",
       "      <td>23.100000</td>\n",
       "      <td>67162.500000</td>\n",
       "      <td>26.833333</td>\n",
       "      <td>116899.833333</td>\n",
       "      <td>406260.833333</td>\n",
       "      <td>...</td>\n",
       "      <td>409714.333333</td>\n",
       "      <td>0.000491</td>\n",
       "      <td>0.000583</td>\n",
       "      <td>20.293333</td>\n",
       "      <td>0.000190</td>\n",
       "      <td>0.000201</td>\n",
       "      <td>4.110000</td>\n",
       "      <td>-1.623333</td>\n",
       "      <td>9.686667</td>\n",
       "      <td>12.111667</td>\n",
       "    </tr>\n",
       "    <tr>\n",
       "      <th>7</th>\n",
       "      <td>DE</td>\n",
       "      <td>32.500000</td>\n",
       "      <td>77.500000</td>\n",
       "      <td>112.000000</td>\n",
       "      <td>11.750000</td>\n",
       "      <td>31.050000</td>\n",
       "      <td>50036.000000</td>\n",
       "      <td>18.000000</td>\n",
       "      <td>32606.500000</td>\n",
       "      <td>179727.500000</td>\n",
       "      <td>...</td>\n",
       "      <td>191338.500000</td>\n",
       "      <td>0.000613</td>\n",
       "      <td>0.000590</td>\n",
       "      <td>-2.575000</td>\n",
       "      <td>0.000174</td>\n",
       "      <td>0.000188</td>\n",
       "      <td>15.355000</td>\n",
       "      <td>-16.720000</td>\n",
       "      <td>2.875000</td>\n",
       "      <td>9.960000</td>\n",
       "    </tr>\n",
       "    <tr>\n",
       "      <th>17</th>\n",
       "      <td>LA</td>\n",
       "      <td>16.477273</td>\n",
       "      <td>48.750000</td>\n",
       "      <td>58.022727</td>\n",
       "      <td>12.052273</td>\n",
       "      <td>33.740909</td>\n",
       "      <td>39219.681818</td>\n",
       "      <td>23.750000</td>\n",
       "      <td>23823.522727</td>\n",
       "      <td>85195.795455</td>\n",
       "      <td>...</td>\n",
       "      <td>87089.159091</td>\n",
       "      <td>0.000517</td>\n",
       "      <td>0.000544</td>\n",
       "      <td>5.187045</td>\n",
       "      <td>0.000225</td>\n",
       "      <td>0.000195</td>\n",
       "      <td>-10.515682</td>\n",
       "      <td>-0.480227</td>\n",
       "      <td>5.148409</td>\n",
       "      <td>9.418636</td>\n",
       "    </tr>\n",
       "    <tr>\n",
       "      <th>18</th>\n",
       "      <td>MA</td>\n",
       "      <td>61.571429</td>\n",
       "      <td>115.785714</td>\n",
       "      <td>203.714286</td>\n",
       "      <td>9.150000</td>\n",
       "      <td>24.621429</td>\n",
       "      <td>56539.428571</td>\n",
       "      <td>23.785714</td>\n",
       "      <td>74951.071429</td>\n",
       "      <td>282394.357143</td>\n",
       "      <td>...</td>\n",
       "      <td>290014.500000</td>\n",
       "      <td>0.000850</td>\n",
       "      <td>0.000895</td>\n",
       "      <td>5.889286</td>\n",
       "      <td>0.000273</td>\n",
       "      <td>0.000281</td>\n",
       "      <td>5.662143</td>\n",
       "      <td>-13.382143</td>\n",
       "      <td>0.770714</td>\n",
       "      <td>12.657143</td>\n",
       "    </tr>\n",
       "  </tbody>\n",
       "</table>\n",
       "<p>5 rows × 28 columns</p>\n",
       "</div>"
      ],
      "text/plain": [
       "   State  Grocery 2009  Convenience 2009  Fast Food Restaurants 2009  \\\n",
       "0     AK      9.400000          6.000000                    7.300000   \n",
       "6     CT     84.833333        125.666667                  220.333333   \n",
       "7     DE     32.500000         77.500000                  112.000000   \n",
       "17    LA     16.477273         48.750000                   58.022727   \n",
       "18    MA     61.571429        115.785714                  203.714286   \n",
       "\n",
       "    Adult Diabetes % 2009  Adult Obsesity % 2009  \\\n",
       "0                7.880000              31.760000   \n",
       "6                7.483333              23.100000   \n",
       "7               11.750000              31.050000   \n",
       "17              12.052273              33.740909   \n",
       "18               9.150000              24.621429   \n",
       "\n",
       "    Median Household Income 2009  Limited Access Population% 2009  \\\n",
       "0                   50652.700000                        36.800000   \n",
       "6                   67162.500000                        26.833333   \n",
       "7                   50036.000000                        18.000000   \n",
       "17                  39219.681818                        23.750000   \n",
       "18                  56539.428571                        23.785714   \n",
       "\n",
       "    Limited Access Population 2009  Population 2009         ...          \\\n",
       "0                      4066.000000      9371.700000         ...           \n",
       "6                    116899.833333    406260.833333         ...           \n",
       "7                     32606.500000    179727.500000         ...           \n",
       "17                    23823.522727     85195.795455         ...           \n",
       "18                    74951.071429    282394.357143         ...           \n",
       "\n",
       "    Population 2014  FF per capita 2009  FF per capita 2014  \\\n",
       "0       9553.100000            0.001179            0.000469   \n",
       "6     409714.333333            0.000491            0.000583   \n",
       "7     191338.500000            0.000613            0.000590   \n",
       "17     87089.159091            0.000517            0.000544   \n",
       "18    290014.500000            0.000850            0.000895   \n",
       "\n",
       "    % change FF Per Capita  Grocery per capita 2009  Grocery per capita 2014  \\\n",
       "0               -18.909000                 0.001536                 0.001250   \n",
       "6                20.293333                 0.000190                 0.000201   \n",
       "7                -2.575000                 0.000174                 0.000188   \n",
       "17                5.187045                 0.000225                 0.000195   \n",
       "18                5.889286                 0.000273                 0.000281   \n",
       "\n",
       "    % change in grocery per capita  % change in Access  % Change in Obesity  \\\n",
       "0                       -10.104000           13.310000            -3.868000   \n",
       "6                         4.110000           -1.623333             9.686667   \n",
       "7                        15.355000          -16.720000             2.875000   \n",
       "17                      -10.515682           -0.480227             5.148409   \n",
       "18                        5.662143          -13.382143             0.770714   \n",
       "\n",
       "    % change in income  \n",
       "0            14.522000  \n",
       "6            12.111667  \n",
       "7             9.960000  \n",
       "17            9.418636  \n",
       "18           12.657143  \n",
       "\n",
       "[5 rows x 28 columns]"
      ]
     },
     "execution_count": 13,
     "metadata": {},
     "output_type": "execute_result"
    }
   ],
   "source": [
    "#Index Numbers\n",
    "outlier_list.index\n",
    "#Pull outliers data from original DataFrame\n",
    "outlier_data = food_desert.iloc[[0, 6, 7, 17, 18, 20, 22, 27, 28, 29, 38, 41, 42, 45, 49],:]\n",
    "outlier_data.head()"
   ]
  },
  {
   "cell_type": "code",
   "execution_count": 14,
   "metadata": {},
   "outputs": [
    {
     "data": {
      "text/html": [
       "<div>\n",
       "<style>\n",
       "    .dataframe thead tr:only-child th {\n",
       "        text-align: right;\n",
       "    }\n",
       "\n",
       "    .dataframe thead th {\n",
       "        text-align: left;\n",
       "    }\n",
       "\n",
       "    .dataframe tbody tr th {\n",
       "        vertical-align: top;\n",
       "    }\n",
       "</style>\n",
       "<table border=\"1\" class=\"dataframe\">\n",
       "  <thead>\n",
       "    <tr style=\"text-align: right;\">\n",
       "      <th></th>\n",
       "      <th>State</th>\n",
       "      <th>Grocery 2009</th>\n",
       "      <th>Convenience 2009</th>\n",
       "      <th>Fast Food Restaurants 2009</th>\n",
       "      <th>Adult Diabetes % 2009</th>\n",
       "      <th>Adult Obsesity % 2009</th>\n",
       "      <th>Median Household Income 2009</th>\n",
       "      <th>Limited Access Population% 2009</th>\n",
       "      <th>Limited Access Population 2009</th>\n",
       "      <th>Population 2009</th>\n",
       "      <th>...</th>\n",
       "      <th>Population 2014</th>\n",
       "      <th>FF per capita 2009</th>\n",
       "      <th>FF per capita 2014</th>\n",
       "      <th>% change FF Per Capita</th>\n",
       "      <th>Grocery per capita 2009</th>\n",
       "      <th>Grocery per capita 2014</th>\n",
       "      <th>% change in grocery per capita</th>\n",
       "      <th>% change in Access</th>\n",
       "      <th>% Change in Obesity</th>\n",
       "      <th>% change in income</th>\n",
       "    </tr>\n",
       "  </thead>\n",
       "  <tbody>\n",
       "    <tr>\n",
       "      <th>1</th>\n",
       "      <td>AL</td>\n",
       "      <td>11.590909</td>\n",
       "      <td>46.954545</td>\n",
       "      <td>49.606061</td>\n",
       "      <td>13.906061</td>\n",
       "      <td>35.119697</td>\n",
       "      <td>36158.409091</td>\n",
       "      <td>16.909091</td>\n",
       "      <td>15479.530303</td>\n",
       "      <td>71153.681818</td>\n",
       "      <td>...</td>\n",
       "      <td>72071.696970</td>\n",
       "      <td>0.000570</td>\n",
       "      <td>0.000584</td>\n",
       "      <td>1.949394</td>\n",
       "      <td>0.000209</td>\n",
       "      <td>0.000186</td>\n",
       "      <td>-6.459545</td>\n",
       "      <td>29.911364</td>\n",
       "      <td>3.277424</td>\n",
       "      <td>9.576970</td>\n",
       "    </tr>\n",
       "    <tr>\n",
       "      <th>2</th>\n",
       "      <td>AR</td>\n",
       "      <td>10.112676</td>\n",
       "      <td>32.042254</td>\n",
       "      <td>41.661972</td>\n",
       "      <td>12.401408</td>\n",
       "      <td>33.661972</td>\n",
       "      <td>35439.126761</td>\n",
       "      <td>19.056338</td>\n",
       "      <td>13986.169014</td>\n",
       "      <td>57926.732394</td>\n",
       "      <td>...</td>\n",
       "      <td>58807.563380</td>\n",
       "      <td>0.000568</td>\n",
       "      <td>0.000562</td>\n",
       "      <td>2.233521</td>\n",
       "      <td>0.000221</td>\n",
       "      <td>0.000181</td>\n",
       "      <td>-12.675493</td>\n",
       "      <td>41.280000</td>\n",
       "      <td>7.626197</td>\n",
       "      <td>10.319155</td>\n",
       "    </tr>\n",
       "    <tr>\n",
       "      <th>3</th>\n",
       "      <td>AZ</td>\n",
       "      <td>64.692308</td>\n",
       "      <td>144.153846</td>\n",
       "      <td>309.615385</td>\n",
       "      <td>9.984615</td>\n",
       "      <td>28.069231</td>\n",
       "      <td>41814.615385</td>\n",
       "      <td>34.307692</td>\n",
       "      <td>92083.769231</td>\n",
       "      <td>486469.846154</td>\n",
       "      <td>...</td>\n",
       "      <td>511791.769231</td>\n",
       "      <td>0.000517</td>\n",
       "      <td>0.000512</td>\n",
       "      <td>-1.579231</td>\n",
       "      <td>0.000141</td>\n",
       "      <td>0.000136</td>\n",
       "      <td>-1.438462</td>\n",
       "      <td>7.690769</td>\n",
       "      <td>3.651538</td>\n",
       "      <td>8.396154</td>\n",
       "    </tr>\n",
       "    <tr>\n",
       "      <th>4</th>\n",
       "      <td>CA</td>\n",
       "      <td>75.590909</td>\n",
       "      <td>90.750000</td>\n",
       "      <td>241.022727</td>\n",
       "      <td>8.279545</td>\n",
       "      <td>25.579545</td>\n",
       "      <td>48118.727273</td>\n",
       "      <td>21.340909</td>\n",
       "      <td>51613.681818</td>\n",
       "      <td>362603.431818</td>\n",
       "      <td>...</td>\n",
       "      <td>376846.227273</td>\n",
       "      <td>0.000623</td>\n",
       "      <td>0.000629</td>\n",
       "      <td>1.688182</td>\n",
       "      <td>0.000278</td>\n",
       "      <td>0.000281</td>\n",
       "      <td>2.268864</td>\n",
       "      <td>-3.377500</td>\n",
       "      <td>-1.526136</td>\n",
       "      <td>9.622727</td>\n",
       "    </tr>\n",
       "    <tr>\n",
       "      <th>5</th>\n",
       "      <td>CO</td>\n",
       "      <td>13.857143</td>\n",
       "      <td>33.553571</td>\n",
       "      <td>63.928571</td>\n",
       "      <td>6.876786</td>\n",
       "      <td>21.951786</td>\n",
       "      <td>47755.446429</td>\n",
       "      <td>28.482143</td>\n",
       "      <td>18153.000000</td>\n",
       "      <td>87508.214286</td>\n",
       "      <td>...</td>\n",
       "      <td>92247.821429</td>\n",
       "      <td>0.000596</td>\n",
       "      <td>0.000587</td>\n",
       "      <td>1.272321</td>\n",
       "      <td>0.000334</td>\n",
       "      <td>0.000356</td>\n",
       "      <td>5.220357</td>\n",
       "      <td>0.107857</td>\n",
       "      <td>2.454821</td>\n",
       "      <td>10.479286</td>\n",
       "    </tr>\n",
       "  </tbody>\n",
       "</table>\n",
       "<p>5 rows × 28 columns</p>\n",
       "</div>"
      ],
      "text/plain": [
       "  State  Grocery 2009  Convenience 2009  Fast Food Restaurants 2009  \\\n",
       "1    AL     11.590909         46.954545                   49.606061   \n",
       "2    AR     10.112676         32.042254                   41.661972   \n",
       "3    AZ     64.692308        144.153846                  309.615385   \n",
       "4    CA     75.590909         90.750000                  241.022727   \n",
       "5    CO     13.857143         33.553571                   63.928571   \n",
       "\n",
       "   Adult Diabetes % 2009  Adult Obsesity % 2009  Median Household Income 2009  \\\n",
       "1              13.906061              35.119697                  36158.409091   \n",
       "2              12.401408              33.661972                  35439.126761   \n",
       "3               9.984615              28.069231                  41814.615385   \n",
       "4               8.279545              25.579545                  48118.727273   \n",
       "5               6.876786              21.951786                  47755.446429   \n",
       "\n",
       "   Limited Access Population% 2009  Limited Access Population 2009  \\\n",
       "1                        16.909091                    15479.530303   \n",
       "2                        19.056338                    13986.169014   \n",
       "3                        34.307692                    92083.769231   \n",
       "4                        21.340909                    51613.681818   \n",
       "5                        28.482143                    18153.000000   \n",
       "\n",
       "   Population 2009         ...          Population 2014  FF per capita 2009  \\\n",
       "1     71153.681818         ...             72071.696970            0.000570   \n",
       "2     57926.732394         ...             58807.563380            0.000568   \n",
       "3    486469.846154         ...            511791.769231            0.000517   \n",
       "4    362603.431818         ...            376846.227273            0.000623   \n",
       "5     87508.214286         ...             92247.821429            0.000596   \n",
       "\n",
       "   FF per capita 2014  % change FF Per Capita  Grocery per capita 2009  \\\n",
       "1            0.000584                1.949394                 0.000209   \n",
       "2            0.000562                2.233521                 0.000221   \n",
       "3            0.000512               -1.579231                 0.000141   \n",
       "4            0.000629                1.688182                 0.000278   \n",
       "5            0.000587                1.272321                 0.000334   \n",
       "\n",
       "   Grocery per capita 2014  % change in grocery per capita  \\\n",
       "1                 0.000186                       -6.459545   \n",
       "2                 0.000181                      -12.675493   \n",
       "3                 0.000136                       -1.438462   \n",
       "4                 0.000281                        2.268864   \n",
       "5                 0.000356                        5.220357   \n",
       "\n",
       "   % change in Access  % Change in Obesity  % change in income  \n",
       "1           29.911364             3.277424            9.576970  \n",
       "2           41.280000             7.626197           10.319155  \n",
       "3            7.690769             3.651538            8.396154  \n",
       "4           -3.377500            -1.526136            9.622727  \n",
       "5            0.107857             2.454821           10.479286  \n",
       "\n",
       "[5 rows x 28 columns]"
      ]
     },
     "execution_count": 14,
     "metadata": {},
     "output_type": "execute_result"
    }
   ],
   "source": [
    "# Create List Omitting Outliers\n",
    "standard =food_desert.drop(food_desert.index[[0, 6, 7, 17, 18, 20, 22, 27, 28, 29, 38, 41, 42, 45, 49]])\n",
    "standard.head()"
   ]
  },
  {
   "cell_type": "code",
   "execution_count": 15,
   "metadata": {},
   "outputs": [
    {
     "data": {
      "text/plain": [
       "<matplotlib.figure.Figure at 0x1170a3f28>"
      ]
     },
     "metadata": {},
     "output_type": "display_data"
    },
    {
     "data": {
      "image/png": "[encoded data removed]",
      "text/plain": [
       "<matplotlib.figure.Figure at 0x1a1b0d77b8>"
      ]
     },
     "metadata": {},
     "output_type": "display_data"
    }
   ],
   "source": [
    "sns.set()\n",
    "\n",
    "\n",
    "# Plot tip as a function of toal bill across days\n",
    "g = sns.lmplot(x=\"% Change in Obesity\", y=\"% change in Access\", hue=\"Outlier\",\n",
    "               truncate=True, size=5, data=outlier_df)\n",
    "plt.savefig(\"outvsstand2.png\")\n",
    "plt.show()"
   ]
  },
  {
   "cell_type": "code",
   "execution_count": 16,
   "metadata": {},
   "outputs": [
    {
     "name": "stderr",
     "output_type": "stream",
     "text": [
      "/Users/blakezpalder/anaconda3/lib/python3.6/site-packages/ipykernel_launcher.py:6: SettingWithCopyWarning:\n",
      "\n",
      "\n",
      "A value is trying to be set on a copy of a slice from a DataFrame.\n",
      "Try using .loc[row_indexer,col_indexer] = value instead\n",
      "\n",
      "See the caveats in the documentation: http://pandas.pydata.org/pandas-docs/stable/indexing.html#indexing-view-versus-copy\n",
      "\n"
     ]
    },
    {
     "data": {
      "text/html": [
       "<iframe id=\"igraph\" scrolling=\"no\" style=\"border:none;\" seamless=\"seamless\" src=\"https://plot.ly/~blakezara/6.embed\" height=\"525px\" width=\"100%\"></iframe>"
      ],
      "text/plain": [
       "<plotly.tools.PlotlyDisplay object>"
      ]
     },
     "execution_count": 16,
     "metadata": {},
     "output_type": "execute_result"
    }
   ],
   "source": [
    "#Create Map for Outliers\n",
    "import plotly.plotly as py\n",
    "import pandas as pd\n",
    "\n",
    "for col in outlier_list.columns:\n",
    "    outlier_list[col] = outlier_list[col].astype(str)\n",
    "\n",
    "scl = [[0.0, 'rgb(242,240,247)'],[0.2, 'rgb(218,218,235)'],[0.4, 'rgb(188,189,220)'],\\\n",
    "            [0.6, 'rgb(158,154,200)'],[0.8, 'rgb(117,107,177)'],[1.0, 'rgb(84,39,143)']]\n",
    "\n",
    "data = [ dict(\n",
    "        type='choropleth',\n",
    "        colorscale = scl,\n",
    "        autocolorscale = False,\n",
    "        locations = outlier_list['State'],\n",
    "        z = outlier_list[\"% Change in Obesity\"].astype(float),\n",
    "        locationmode = 'USA-states',\n",
    "       # text = texas_desert['text'],\n",
    "        marker = dict(\n",
    "            line = dict (\n",
    "                color = 'rgb(255,255,255)',\n",
    "                width = 2\n",
    "            ) ),\n",
    "        colorbar = dict(\n",
    "            title = \"Obesity Percent Change\")\n",
    "        ) ]\n",
    "\n",
    "layout = dict(\n",
    "        title = 'Outliers Obesity Percent Change',\n",
    "        geo = dict(\n",
    "            scope='usa',\n",
    "            projection=dict( type='albers usa' ),\n",
    "            showlakes = True,\n",
    "            lakecolor = 'rgb(255, 255, 255)'),\n",
    "             )\n",
    "    \n",
    "fig = dict( data=data, layout=layout )\n",
    "plt.savefig(\"outliersmap.png\")\n",
    "py.iplot( fig, filename='d3-cloropleth-map' )"
   ]
  },
  {
   "cell_type": "markdown",
   "metadata": {},
   "source": [
    "### 3. Are there other factors that impact health beyond access such as socio economics or region or culture?"
   ]
  },
  {
   "cell_type": "markdown",
   "metadata": {},
   "source": [
    "The theory argues that low income populations are more impacted by change in grocery accessibility. Therfore the outlier states had higher median income and were less impacted by the change in grocery than those states that showed the correlation we expected. This leads us to belive that socio economics are a important factor to health and we beleive that cultural and regional norms also must have some impact to health as well. "
   ]
  },
  {
   "cell_type": "code",
   "execution_count": 24,
   "metadata": {},
   "outputs": [
    {
     "data": {
      "text/html": [
       "<iframe id=\"igraph\" scrolling=\"no\" style=\"border:none;\" seamless=\"seamless\" src=\"https://plot.ly/~blakezara/2.embed\" height=\"525px\" width=\"100%\"></iframe>"
      ],
      "text/plain": [
       "<plotly.tools.PlotlyDisplay object>"
      ]
     },
     "execution_count": 24,
     "metadata": {},
     "output_type": "execute_result"
    }
   ],
   "source": [
    "#Full data obesity vs income comparrison\n",
    "import plotly.plotly as py\n",
    "import plotly.graph_objs as go\n",
    "\n",
    "\n",
    "trace1 = go.Bar(\n",
    "    x=['Outlier'],\n",
    "    y=outlier_data['% change in income'].mean(),\n",
    "    name='Outlier'\n",
    ")\n",
    "trace2 = go.Bar(\n",
    "    x=['Standard'],\n",
    "    y=standard['% change in income'].mean(),\n",
    "    name='Standard'\n",
    ")\n",
    "\n",
    "data = [trace1, trace2]\n",
    "layout = go.Layout(\n",
    "    barmode='group'\n",
    ")\n",
    "\n",
    "fig = go.Figure(data=data, layout=layout)\n",
    "plt.savefig(\"MedianIncome.png\")\n",
    "py.iplot(fig, filename='grouped-bar')"
   ]
  },
  {
   "cell_type": "code",
   "execution_count": 25,
   "metadata": {},
   "outputs": [
    {
     "data": {
      "text/plain": [
       "<matplotlib.figure.Figure at 0x1a1bbf1588>"
      ]
     },
     "metadata": {},
     "output_type": "display_data"
    },
    {
     "data": {
      "image/png": "[encoded data removed]",
      "text/plain": [
       "<matplotlib.figure.Figure at 0x1119e35c0>"
      ]
     },
     "metadata": {},
     "output_type": "display_data"
    }
   ],
   "source": [
    "#Outlier Change Acces Versus Change Health \n",
    "sns.set()\n",
    "\n",
    "# Household income against Limited Access\n",
    "w = sns.lmplot(x=\"% change in Access\", y=\"% Change in Obesity\", truncate=True, size=7, data=outlier_data)\n",
    "plt.show()\n",
    "\n",
    "plt.savefig(\"Access_v_Obesity_chnge.png\")"
   ]
  },
  {
   "cell_type": "code",
   "execution_count": 26,
   "metadata": {},
   "outputs": [
    {
     "data": {
      "image/png": "[encoded data removed]",
      "text/plain": [
       "<matplotlib.figure.Figure at 0x1a1bab0908>"
      ]
     },
     "metadata": {},
     "output_type": "display_data"
    }
   ],
   "source": [
    "#States Change in Obesity Versus Change in Fast Food\n",
    "x7_axis = standard['% Change in Obesity']\n",
    "\n",
    "y7_axis = standard['% change FF Per Capita']\n",
    "\n",
    "#low access vs. diabetes\n",
    "\n",
    "plt.scatter(x7_axis, y7_axis, marker=\"o\", facecolors=\"blue\", edgecolors=\"black\", alpha=0.5)\n",
    "#plt.title(\"\")\n",
    "plt.xlabel(\"Change in Obesity\")\n",
    "plt.ylabel(\"Change in Fast Food\")\n",
    "\n",
    "#plot grid\n",
    "plt.grid(True, color='w', linestyle='-', linewidth=.2)\n",
    "plt.gca().patch.set_facecolor('0.85')\n",
    "\n",
    "plt.savefig(\"standard_obesity_v_ff.png\")\n",
    "plt.show()"
   ]
  },
  {
   "cell_type": "code",
   "execution_count": 27,
   "metadata": {},
   "outputs": [
    {
     "data": {
      "image/png": "[encoded data removed]",
      "text/plain": [
       "<matplotlib.figure.Figure at 0x1a1c0344e0>"
      ]
     },
     "metadata": {},
     "output_type": "display_data"
    }
   ],
   "source": [
    "#Outlier States Change in Obesity Versus Change in Fast Food\n",
    "x7_axis = outlier_data['% Change in Obesity']\n",
    "\n",
    "y7_axis = outlier_data['% change FF Per Capita']\n",
    "\n",
    "#low access vs. diabetes\n",
    "\n",
    "plt.scatter(x7_axis, y7_axis, marker=\"o\", facecolors=\"blue\", edgecolors=\"black\", alpha=0.5)\n",
    "#plt.title(\"Diabetes vs Limited Access\")\n",
    "plt.xlabel(\"Change in Obesity\")\n",
    "plt.ylabel(\"Change in Fast Food\")\n",
    "\n",
    "#plot grid\n",
    "plt.grid(True, color='w', linestyle='-', linewidth=.2)\n",
    "plt.gca().patch.set_facecolor('0.85')\n",
    "\n",
    "plt.savefig(\"outlier_obesity_v_ff.png\")\n",
    "plt.show()"
   ]
  },
  {
   "cell_type": "code",
   "execution_count": 28,
   "metadata": {
    "collapsed": true
   },
   "outputs": [],
   "source": [
    "#An exploration into outlier versus standard states differences\n",
    "full_desert = pd.read_csv(\"Food Desert_Data_jj.csv\")\n",
    "GA_data = full_desert[full_desert['State']=='GA']\n",
    "MA_data = full_desert[full_desert['State']=='MA']\n",
    "MT_data = full_desert[full_desert['State']=='MT']"
   ]
  },
  {
   "cell_type": "code",
   "execution_count": 29,
   "metadata": {},
   "outputs": [
    {
     "data": {
      "image/png": "[encoded data removed]",
      "text/plain": [
       "<matplotlib.figure.Figure at 0x1a1bb46be0>"
      ]
     },
     "metadata": {},
     "output_type": "display_data"
    }
   ],
   "source": [
    "#Select States Obesity vs Income 2009\n",
    "fig, ax1 = plt.subplots()\n",
    "x1 = MT_data['Adult Obsesity % 2009']\n",
    "y1 = MT_data['Median Household Income 2009']\n",
    "x2 = GA_data['Adult Obsesity % 2009']\n",
    "y2 = GA_data['Median Household Income 2009']\n",
    "x3 = MA_data['Adult Obsesity % 2009']\n",
    "y3 = MA_data['Median Household Income 2009']\n",
    "\n",
    "ax1.scatter(x1,y1, c= \"blue\", alpha=0.4, label = \"MT\")\n",
    "ax1.scatter(x2,y2, c= \"lime\", alpha=0.4, label = \"GA\")\n",
    "ax1.scatter(x3,y3, c= \"red\", alpha=0.4, label = \"MA\")\n",
    "ax1.grid(True)\n",
    "\n",
    "plt.title(\"Adult Obesity % vs. Median Household Income 2009\")\n",
    "plt.xlabel(\"Adult Obesity %\")\n",
    "plt.ylabel(\"Median Household Income\")\n",
    "plt.legend()\n",
    "plt.savefig(\"select_state_health_versus_income_09.png\")\n",
    "plt.show()"
   ]
  },
  {
   "cell_type": "code",
   "execution_count": 30,
   "metadata": {},
   "outputs": [
    {
     "data": {
      "image/png": "[encoded data removed]",
      "text/plain": [
       "<matplotlib.figure.Figure at 0x1a1bbde5c0>"
      ]
     },
     "metadata": {},
     "output_type": "display_data"
    }
   ],
   "source": [
    "#% change in Obesity vs % change in Income\n",
    "fig, ax1 = plt.subplots()\n",
    "x1 = MT_data['% change in income']\n",
    "y1 = MT_data['% Change in Obesity']\n",
    "x2 = GA_data['% change in income']\n",
    "y2 = GA_data['% Change in Obesity']\n",
    "x3 = MA_data['% change in income']\n",
    "y3 = MA_data['% Change in Obesity']\n",
    "\n",
    "ax1.scatter(x1,y1, c= \"blue\", alpha=0.4, label = \"MT\")\n",
    "ax1.scatter(x2,y2, c= \"lime\", alpha=0.4, label = \"GA\")\n",
    "ax1.scatter(x3,y3, c= \"red\", alpha=0.4, label = \"MA\")\n",
    "ax1.grid(True)\n",
    "\n",
    "plt.title(\"% change in Income vs. % Change in Obesity\")\n",
    "plt.xlabel(\"% Change in Income \")\n",
    "plt.ylabel(\"% Change in Obesity\")\n",
    "plt.xlim(-50,50)\n",
    "plt.ylim(-50,50)\n",
    "plt.legend()\n",
    "plt.savefig(\"select_state_health_versus_income.png\")\n",
    "plt.show()"
   ]
  },
  {
   "cell_type": "code",
   "execution_count": null,
   "metadata": {
    "collapsed": true
   },
   "outputs": [],
   "source": []
  }
 ],
 "metadata": {
  "kernelspec": {
   "display_name": "Python 3",
   "language": "python",
   "name": "python3"
  },
  "language_info": {
   "codemirror_mode": {
    "name": "ipython",
    "version": 3
   },
   "file_extension": ".py",
   "mimetype": "text/x-python",
   "name": "python",
   "nbconvert_exporter": "python",
   "pygments_lexer": "ipython3",
   "version": "3.6.3"
  }
 },
 "nbformat": 4,
 "nbformat_minor": 2
}
