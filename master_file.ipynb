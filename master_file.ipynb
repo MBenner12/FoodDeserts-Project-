{
 "cells": [
  {
   "cell_type": "code",
   "execution_count": 11,
   "metadata": {
    "collapsed": true
   },
   "outputs": [],
   "source": [
    "import pandas as pd\n",
    "import numpy as np\n",
    "import json\n",
    "import matplotlib.pyplot as plt"
   ]
  },
  {
   "cell_type": "code",
   "execution_count": 12,
   "metadata": {
    "collapsed": true
   },
   "outputs": [],
   "source": [
    "desert_csv = \"Food Desert_Data.csv\""
   ]
  },
  {
   "cell_type": "code",
   "execution_count": 13,
   "metadata": {},
   "outputs": [],
   "source": [
    "desert_csv_df = pd.read_csv(desert_csv)"
   ]
  },
  {
   "cell_type": "code",
   "execution_count": 14,
   "metadata": {},
   "outputs": [
    {
     "data": {
      "text/html": [
       "<div>\n",
       "<style>\n",
       "    .dataframe thead tr:only-child th {\n",
       "        text-align: right;\n",
       "    }\n",
       "\n",
       "    .dataframe thead th {\n",
       "        text-align: left;\n",
       "    }\n",
       "\n",
       "    .dataframe tbody tr th {\n",
       "        vertical-align: top;\n",
       "    }\n",
       "</style>\n",
       "<table border=\"1\" class=\"dataframe\">\n",
       "  <thead>\n",
       "    <tr style=\"text-align: right;\">\n",
       "      <th></th>\n",
       "      <th>State</th>\n",
       "      <th>County Name</th>\n",
       "      <th>GROC09</th>\n",
       "      <th>CONVS09</th>\n",
       "      <th>FFR09</th>\n",
       "      <th>PCT_DIABETES_ADULTS09</th>\n",
       "      <th>PCT_OBESE_ADULTS09</th>\n",
       "      <th>MEDHHINC09</th>\n",
       "      <th>LACCESS_POP09</th>\n",
       "      <th>GROC14</th>\n",
       "      <th>CONVS14</th>\n",
       "      <th>FFR14</th>\n",
       "      <th>PCT_DIABETES_ADULTS14</th>\n",
       "      <th>PCT_OBESE_ADULTS14</th>\n",
       "      <th>MEDHHINC14</th>\n",
       "      <th>PCT_LACCESS_POP14</th>\n",
       "    </tr>\n",
       "  </thead>\n",
       "  <tbody>\n",
       "    <tr>\n",
       "      <th>0</th>\n",
       "      <td>AL</td>\n",
       "      <td>Autauga</td>\n",
       "      <td>6.0</td>\n",
       "      <td>29.0</td>\n",
       "      <td>30.0</td>\n",
       "      <td>12.3</td>\n",
       "      <td>34.1</td>\n",
       "      <td>53049</td>\n",
       "      <td>34%</td>\n",
       "      <td>4.0</td>\n",
       "      <td>30.0</td>\n",
       "      <td>36.0</td>\n",
       "      <td>13.0</td>\n",
       "      <td>34.1</td>\n",
       "      <td>56580.0</td>\n",
       "      <td>32%</td>\n",
       "    </tr>\n",
       "    <tr>\n",
       "      <th>1</th>\n",
       "      <td>AL</td>\n",
       "      <td>Baldwin</td>\n",
       "      <td>24.0</td>\n",
       "      <td>119.0</td>\n",
       "      <td>112.0</td>\n",
       "      <td>11.4</td>\n",
       "      <td>25.5</td>\n",
       "      <td>47618</td>\n",
       "      <td>19%</td>\n",
       "      <td>29.0</td>\n",
       "      <td>118.0</td>\n",
       "      <td>132.0</td>\n",
       "      <td>10.4</td>\n",
       "      <td>27.4</td>\n",
       "      <td>52387.0</td>\n",
       "      <td>17%</td>\n",
       "    </tr>\n",
       "    <tr>\n",
       "      <th>2</th>\n",
       "      <td>AL</td>\n",
       "      <td>Barbour</td>\n",
       "      <td>5.0</td>\n",
       "      <td>14.0</td>\n",
       "      <td>21.0</td>\n",
       "      <td>14.0</td>\n",
       "      <td>37.0</td>\n",
       "      <td>33074</td>\n",
       "      <td>21%</td>\n",
       "      <td>5.0</td>\n",
       "      <td>19.0</td>\n",
       "      <td>22.0</td>\n",
       "      <td>18.4</td>\n",
       "      <td>44.4</td>\n",
       "      <td>31433.0</td>\n",
       "      <td>22%</td>\n",
       "    </tr>\n",
       "    <tr>\n",
       "      <th>3</th>\n",
       "      <td>AL</td>\n",
       "      <td>Bibb</td>\n",
       "      <td>6.0</td>\n",
       "      <td>19.0</td>\n",
       "      <td>7.0</td>\n",
       "      <td>11.8</td>\n",
       "      <td>34.0</td>\n",
       "      <td>35472</td>\n",
       "      <td>5%</td>\n",
       "      <td>5.0</td>\n",
       "      <td>15.0</td>\n",
       "      <td>5.0</td>\n",
       "      <td>14.8</td>\n",
       "      <td>40.3</td>\n",
       "      <td>40767.0</td>\n",
       "      <td>4%</td>\n",
       "    </tr>\n",
       "    <tr>\n",
       "      <th>4</th>\n",
       "      <td>AL</td>\n",
       "      <td>Blount</td>\n",
       "      <td>6.0</td>\n",
       "      <td>31.0</td>\n",
       "      <td>24.0</td>\n",
       "      <td>12.6</td>\n",
       "      <td>32.0</td>\n",
       "      <td>42906</td>\n",
       "      <td>3%</td>\n",
       "      <td>6.0</td>\n",
       "      <td>27.0</td>\n",
       "      <td>21.0</td>\n",
       "      <td>14.1</td>\n",
       "      <td>34.6</td>\n",
       "      <td>50487.0</td>\n",
       "      <td>6%</td>\n",
       "    </tr>\n",
       "  </tbody>\n",
       "</table>\n",
       "</div>"
      ],
      "text/plain": [
       "  State County Name  GROC09  CONVS09  FFR09  PCT_DIABETES_ADULTS09  \\\n",
       "0    AL     Autauga     6.0     29.0   30.0                   12.3   \n",
       "1    AL     Baldwin    24.0    119.0  112.0                   11.4   \n",
       "2    AL     Barbour     5.0     14.0   21.0                   14.0   \n",
       "3    AL        Bibb     6.0     19.0    7.0                   11.8   \n",
       "4    AL      Blount     6.0     31.0   24.0                   12.6   \n",
       "\n",
       "   PCT_OBESE_ADULTS09  MEDHHINC09 LACCESS_POP09  GROC14  CONVS14  FFR14  \\\n",
       "0                34.1       53049           34%     4.0     30.0   36.0   \n",
       "1                25.5       47618           19%    29.0    118.0  132.0   \n",
       "2                37.0       33074           21%     5.0     19.0   22.0   \n",
       "3                34.0       35472            5%     5.0     15.0    5.0   \n",
       "4                32.0       42906            3%     6.0     27.0   21.0   \n",
       "\n",
       "   PCT_DIABETES_ADULTS14  PCT_OBESE_ADULTS14  MEDHHINC14 PCT_LACCESS_POP14  \n",
       "0                   13.0                34.1     56580.0               32%  \n",
       "1                   10.4                27.4     52387.0               17%  \n",
       "2                   18.4                44.4     31433.0               22%  \n",
       "3                   14.8                40.3     40767.0                4%  \n",
       "4                   14.1                34.6     50487.0                6%  "
      ]
     },
     "execution_count": 14,
     "metadata": {},
     "output_type": "execute_result"
    }
   ],
   "source": [
    "desert_csv_df.head()"
   ]
  },
  {
   "cell_type": "code",
   "execution_count": null,
   "metadata": {
    "collapsed": true
   },
   "outputs": [],
   "source": []
  },
  {
   "cell_type": "code",
   "execution_count": null,
   "metadata": {
    "collapsed": true
   },
   "outputs": [],
   "source": []
  }
 ],
 "metadata": {
  "kernelspec": {
   "display_name": "Python 3",
   "language": "python",
   "name": "python3"
  },
  "language_info": {
   "codemirror_mode": {
    "name": "ipython",
    "version": 3
   },
   "file_extension": ".py",
   "mimetype": "text/x-python",
   "name": "python",
   "nbconvert_exporter": "python",
   "pygments_lexer": "ipython3",
   "version": "3.6.3"
  }
 },
 "nbformat": 4,
 "nbformat_minor": 2
}
